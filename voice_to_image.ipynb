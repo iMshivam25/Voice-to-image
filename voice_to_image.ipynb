{
  "nbformat": 4,
  "nbformat_minor": 0,
  "metadata": {
    "colab": {
      "provenance": [],
      "name": "voice-to-text.ipynb",
      "authorship_tag": "ABX9TyPlbPRnxjz0bgIOlBHM+IhH",
      "include_colab_link": true
    },
    "kernelspec": {
      "name": "python3",
      "display_name": "Python 3"
    },
    "language_info": {
      "name": "python"
    },
    "accelerator": "GPU",
    "gpuClass": "standard"
  },
  "cells": [
    {
      "cell_type": "markdown",
      "metadata": {
        "id": "view-in-github",
        "colab_type": "text"
      },
      "source": [
        "<a href=\"https://colab.research.google.com/github/iMshivam25/Voice-to-text/blob/main/voice_to_text.ipynb\" target=\"_parent\"><img src=\"https://colab.research.google.com/assets/colab-badge.svg\" alt=\"Open In Colab\"/></a>"
      ]
    },
    {
      "cell_type": "code",
      "source": [
        "# !pip install sounddevice\n",
        "# !pip install scipy\n",
        "# !pip install setuptools\n",
        "# !pip install --upgrade pip setuptools wheel\n",
        "# !pip install cffi\n",
        "# !pip install pyaudio"
      ],
      "metadata": {
        "id": "hN4N0pvc3I4N"
      },
      "execution_count": null,
      "outputs": []
    },
    {
      "cell_type": "code",
      "source": [
        "# import sounddevice as sd\n",
        "# from scipy.io.wavfile import write"
      ],
      "metadata": {
        "id": "hFE3oaOh4x3U"
      },
      "execution_count": null,
      "outputs": []
    },
    {
      "cell_type": "code",
      "execution_count": null,
      "metadata": {
        "id": "RdFMcVLuXVIg"
      },
      "outputs": [],
      "source": [
        "!pip install torch torchvision torchaudio --extra-index-url https://download.pytorch.org/whl/cu116\n",
        "!pip install git+https://github.com/openai/whisper.git \n",
        "!pip install diffusers==0.2.4\n",
        "!pip install transformers scipy ftfy\n",
        "!pip install \"ipywidgets>=7,<8\"\n",
        "!apt install ffmpeg\n",
        "!pip install accelerate "
      ]
    },
    {
      "cell_type": "code",
      "source": [
        "from google.colab import output\n",
        "from huggingface_hub import notebook_login\n",
        "\n",
        "output.enable_custom_widget_manager()\n",
        "notebook_login()"
      ],
      "metadata": {
        "id": "EBiUy2pOXah2"
      },
      "execution_count": null,
      "outputs": []
    },
    {
      "cell_type": "code",
      "source": [
        "import whisper\n",
        "\n",
        "# loading model\n",
        "model = whisper.load_model('small')\n",
        "\n",
        "# loading audio file\n",
        "audio = whisper.load_audio('prompt.m4a')\n",
        "# padding audio to 30 seconds\n",
        "audio = whisper.pad_or_trim(audio)\n",
        "\n",
        "# generating spectrogram\n",
        "mel = whisper.log_mel_spectrogram(audio).to(model.device)\n",
        "\n",
        "# decoding\n",
        "options = whisper.DecodingOptions(fp16 = False)\n",
        "result = whisper.decode(model, mel, options)\n",
        "\n",
        "# ready prompt!\n",
        "prompt = result.text\n",
        "\n",
        "# adding tips\n",
        "prompt += ' hd, 4k resolution, cartoon style'\n",
        "print(prompt) "
      ],
      "metadata": {
        "id": "Kz-_a5yQXeoV"
      },
      "execution_count": null,
      "outputs": []
    },
    {
      "cell_type": "code",
      "source": [
        "from google.colab import drive\n",
        "drive.mount('/content/drive')"
      ],
      "metadata": {
        "id": "iLbXps6ncfl5",
        "colab": {
          "base_uri": "https://localhost:8080/"
        },
        "outputId": "9db9eff9-df6f-40fd-8326-c7068f4839a3"
      },
      "execution_count": 13,
      "outputs": [
        {
          "output_type": "stream",
          "name": "stdout",
          "text": [
            "Mounted at /content/drive\n"
          ]
        }
      ]
    },
    {
      "cell_type": "code",
      "source": [
        "pip install diffusers --upgrade"
      ],
      "metadata": {
        "id": "0gsQSbc9wE5n"
      },
      "execution_count": null,
      "outputs": []
    },
    {
      "cell_type": "code",
      "source": [
        "import torch\n",
        "from diffusers import StableDiffusionPipeline\n",
        "\n",
        "pipe = StableDiffusionPipeline.from_pretrained(\n",
        "    'CompVis/stable-diffusion-v1-4',\n",
        "    revision='fp16',\n",
        "    torcj_dtype=torch.float16,\n",
        "    use_auth_token=True\n",
        ")\n",
        "\n",
        "pipe = pipe.to(\"cuda\")"
      ],
      "metadata": {
        "id": "3kC4drVFXh4M"
      },
      "execution_count": null,
      "outputs": []
    },
    {
      "cell_type": "code",
      "source": [
        "with torch.autocast('cuda'):\n",
        "    image = pipe(prompt).images[0]"
      ],
      "metadata": {
        "id": "kaQMKt98Xkb1"
      },
      "execution_count": null,
      "outputs": []
    },
    {
      "cell_type": "code",
      "source": [
        "import matplotlib.pyplot as plt\n",
        "\n",
        "plt.imshow(image)\n",
        "plt.title(prompt)\n",
        "plt.axis('off')\n",
        "plt.savefig('result.jpg')\n",
        "plt.show()"
      ],
      "metadata": {
        "id": "Q3z9_hIgXmqu"
      },
      "execution_count": null,
      "outputs": []
    }
  ]
}
